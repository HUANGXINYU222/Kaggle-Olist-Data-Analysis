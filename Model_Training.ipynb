{
 "cells": [
  {
   "cell_type": "code",
   "execution_count": 66,
   "metadata": {
    "colab": {
     "base_uri": "https://localhost:8080/"
    },
    "id": "Cs-P45-rxfEW",
    "outputId": "509e876b-0986-4dcb-edee-eac1e5a9ef52"
   },
   "outputs": [
    {
     "name": "stdout",
     "output_type": "stream",
     "text": [
      "Requirement already satisfied: pandas in d:\\anaconda\\lib\\site-packages (2.2.2)\n",
      "Requirement already satisfied: numpy in d:\\anaconda\\lib\\site-packages (1.26.4)\n",
      "Requirement already satisfied: scikit-learn in d:\\anaconda\\lib\\site-packages (1.4.2)\n",
      "Requirement already satisfied: matplotlib in d:\\anaconda\\lib\\site-packages (3.8.4)\n",
      "Requirement already satisfied: seaborn in d:\\anaconda\\lib\\site-packages (0.13.2)\n",
      "Requirement already satisfied: xgboost in d:\\anaconda\\lib\\site-packages (3.0.0)\n",
      "Requirement already satisfied: joblib in d:\\anaconda\\lib\\site-packages (1.4.2)\n",
      "Requirement already satisfied: lightgbm in d:\\anaconda\\lib\\site-packages (4.6.0)\n",
      "Requirement already satisfied: geopy in d:\\anaconda\\lib\\site-packages (2.4.1)\n",
      "Requirement already satisfied: imbalanced-learn in d:\\anaconda\\lib\\site-packages (0.12.3)\n",
      "Requirement already satisfied: python-dateutil>=2.8.2 in d:\\anaconda\\lib\\site-packages (from pandas) (2.9.0.post0)\n",
      "Requirement already satisfied: pytz>=2020.1 in d:\\anaconda\\lib\\site-packages (from pandas) (2024.1)\n",
      "Requirement already satisfied: tzdata>=2022.7 in d:\\anaconda\\lib\\site-packages (from pandas) (2023.3)\n",
      "Requirement already satisfied: scipy>=1.6.0 in d:\\anaconda\\lib\\site-packages (from scikit-learn) (1.13.1)\n",
      "Requirement already satisfied: threadpoolctl>=2.0.0 in d:\\anaconda\\lib\\site-packages (from scikit-learn) (2.2.0)\n",
      "Requirement already satisfied: contourpy>=1.0.1 in d:\\anaconda\\lib\\site-packages (from matplotlib) (1.2.0)\n",
      "Requirement already satisfied: cycler>=0.10 in d:\\anaconda\\lib\\site-packages (from matplotlib) (0.11.0)\n",
      "Requirement already satisfied: fonttools>=4.22.0 in d:\\anaconda\\lib\\site-packages (from matplotlib) (4.51.0)\n",
      "Requirement already satisfied: kiwisolver>=1.3.1 in d:\\anaconda\\lib\\site-packages (from matplotlib) (1.4.4)\n",
      "Requirement already satisfied: packaging>=20.0 in d:\\anaconda\\lib\\site-packages (from matplotlib) (24.2)\n",
      "Requirement already satisfied: pillow>=8 in d:\\anaconda\\lib\\site-packages (from matplotlib) (10.3.0)\n",
      "Requirement already satisfied: pyparsing>=2.3.1 in d:\\anaconda\\lib\\site-packages (from matplotlib) (3.0.9)\n",
      "Requirement already satisfied: geographiclib<3,>=1.52 in d:\\anaconda\\lib\\site-packages (from geopy) (2.0)\n",
      "Requirement already satisfied: six>=1.5 in d:\\anaconda\\lib\\site-packages (from python-dateutil>=2.8.2->pandas) (1.17.0)\n"
     ]
    }
   ],
   "source": [
    "!pip install pandas numpy scikit-learn matplotlib seaborn xgboost joblib lightgbm\\\n",
    "geopy imbalanced-learn"
   ]
  },
  {
   "cell_type": "markdown",
   "metadata": {
    "id": "j5j7FjF3iBZs"
   },
   "source": [
    "## Import libraries"
   ]
  },
  {
   "cell_type": "code",
   "execution_count": 68,
   "metadata": {
    "id": "rQKY6Wpg8Oy-"
   },
   "outputs": [],
   "source": [
    "import pandas as pd\n",
    "import numpy as np\n",
    "import matplotlib.pyplot as plt\n",
    "%matplotlib inline\n",
    "import seaborn as sns\n",
    "import joblib\n",
    "import warnings\n",
    "\n",
    "from sklearn.model_selection import train_test_split, GridSearchCV\n",
    "from sklearn.preprocessing import StandardScaler\n",
    "from sklearn.utils import resample\n",
    "\n",
    "from sklearn.linear_model import LogisticRegression\n",
    "from sklearn.tree import DecisionTreeClassifier\n",
    "from sklearn.ensemble import RandomForestClassifier\n",
    "from sklearn.ensemble import GradientBoostingClassifier\n",
    "from xgboost import XGBClassifier\n",
    "from lightgbm import LGBMClassifier\n",
    "\n",
    "from sklearn.metrics import classification_report, accuracy_score,\\\n",
    "confusion_matrix, roc_auc_score, roc_curve, auc, RocCurveDisplay\n",
    "\n",
    "from geopy.distance import geodesic\n",
    "from collections import Counter\n",
    "\n",
    "from imblearn.over_sampling import RandomOverSampler\n",
    "from imblearn.under_sampling import RandomUnderSampler\n",
    "from imblearn.over_sampling import SMOTE\n",
    "from imblearn.combine import SMOTETomek\n",
    "from imblearn.over_sampling import ADASYN"
   ]
  },
  {
   "cell_type": "markdown",
   "metadata": {
    "id": "kAZyYSeyx-UR"
   },
   "source": [
    "## Import Data"
   ]
  },
  {
   "cell_type": "code",
   "execution_count": 70,
   "metadata": {
    "id": "dfGrByVEx9PP"
   },
   "outputs": [],
   "source": [
    "df = pd.read_csv(\"cleaned_data.csv\")"
   ]
  },
  {
   "cell_type": "code",
   "execution_count": 72,
   "metadata": {
    "colab": {
     "base_uri": "https://localhost:8080/",
     "height": 255
    },
    "id": "t8FmMQO1yWxx",
    "outputId": "5c9ccfbf-278b-4f5d-da28-56df5f60cfd3"
   },
   "outputs": [
    {
     "data": {
      "text/html": [
       "<div>\n",
       "<style scoped>\n",
       "    .dataframe tbody tr th:only-of-type {\n",
       "        vertical-align: middle;\n",
       "    }\n",
       "\n",
       "    .dataframe tbody tr th {\n",
       "        vertical-align: top;\n",
       "    }\n",
       "\n",
       "    .dataframe thead th {\n",
       "        text-align: right;\n",
       "    }\n",
       "</style>\n",
       "<table border=\"1\" class=\"dataframe\">\n",
       "  <thead>\n",
       "    <tr style=\"text-align: right;\">\n",
       "      <th></th>\n",
       "      <th>order_id</th>\n",
       "      <th>customer_id</th>\n",
       "      <th>order_status</th>\n",
       "      <th>order_purchase_timestamp</th>\n",
       "      <th>order_approved_at</th>\n",
       "      <th>order_delivered_carrier_date</th>\n",
       "      <th>order_delivered_customer_date</th>\n",
       "      <th>order_estimated_delivery_date</th>\n",
       "      <th>delay</th>\n",
       "      <th>order_item_id</th>\n",
       "      <th>...</th>\n",
       "      <th>geolocation_state_customer</th>\n",
       "      <th>geolocation_zip_code_prefix_seller</th>\n",
       "      <th>geolocation_lat_seller</th>\n",
       "      <th>geolocation_lng_seller</th>\n",
       "      <th>geolocation_city_seller</th>\n",
       "      <th>geolocation_state_seller</th>\n",
       "      <th>product_weight_g</th>\n",
       "      <th>product_length_cm</th>\n",
       "      <th>product_height_cm</th>\n",
       "      <th>product_width_cm</th>\n",
       "    </tr>\n",
       "  </thead>\n",
       "  <tbody>\n",
       "    <tr>\n",
       "      <th>0</th>\n",
       "      <td>e481f51cbdc54678b7cc49136f2d6af7</td>\n",
       "      <td>9ef432eb6251297304e76186b10a928d</td>\n",
       "      <td>delivered</td>\n",
       "      <td>2017-10-02 10:56:33</td>\n",
       "      <td>2017-10-02 11:07:15</td>\n",
       "      <td>2017-10-04 19:55:00</td>\n",
       "      <td>2017-10-10 21:25:13</td>\n",
       "      <td>2017-10-18</td>\n",
       "      <td>0</td>\n",
       "      <td>1</td>\n",
       "      <td>...</td>\n",
       "      <td>SP</td>\n",
       "      <td>9350.0</td>\n",
       "      <td>-23.680114</td>\n",
       "      <td>-46.452454</td>\n",
       "      <td>maua</td>\n",
       "      <td>SP</td>\n",
       "      <td>500.0</td>\n",
       "      <td>19.0</td>\n",
       "      <td>8.0</td>\n",
       "      <td>13.0</td>\n",
       "    </tr>\n",
       "    <tr>\n",
       "      <th>1</th>\n",
       "      <td>53cdb2fc8bc7dce0b6741e2150273451</td>\n",
       "      <td>b0830fb4747a6c6d20dea0b8c802d7ef</td>\n",
       "      <td>delivered</td>\n",
       "      <td>2018-07-24 20:41:37</td>\n",
       "      <td>2018-07-26 03:24:27</td>\n",
       "      <td>2018-07-26 14:31:00</td>\n",
       "      <td>2018-08-07 15:27:45</td>\n",
       "      <td>2018-08-13</td>\n",
       "      <td>0</td>\n",
       "      <td>1</td>\n",
       "      <td>...</td>\n",
       "      <td>BA</td>\n",
       "      <td>31570.0</td>\n",
       "      <td>-19.810119</td>\n",
       "      <td>-43.984727</td>\n",
       "      <td>belo horizonte</td>\n",
       "      <td>MG</td>\n",
       "      <td>400.0</td>\n",
       "      <td>19.0</td>\n",
       "      <td>13.0</td>\n",
       "      <td>19.0</td>\n",
       "    </tr>\n",
       "    <tr>\n",
       "      <th>2</th>\n",
       "      <td>47770eb9100c2d0c44946d9cf07ec65d</td>\n",
       "      <td>41ce2a54c0b03bf3443c3d931a367089</td>\n",
       "      <td>delivered</td>\n",
       "      <td>2018-08-08 08:38:49</td>\n",
       "      <td>2018-08-08 08:55:23</td>\n",
       "      <td>2018-08-08 13:50:00</td>\n",
       "      <td>2018-08-17 18:06:29</td>\n",
       "      <td>2018-09-04</td>\n",
       "      <td>0</td>\n",
       "      <td>1</td>\n",
       "      <td>...</td>\n",
       "      <td>GO</td>\n",
       "      <td>14840.0</td>\n",
       "      <td>-21.362358</td>\n",
       "      <td>-48.232976</td>\n",
       "      <td>guariba</td>\n",
       "      <td>SP</td>\n",
       "      <td>420.0</td>\n",
       "      <td>24.0</td>\n",
       "      <td>19.0</td>\n",
       "      <td>21.0</td>\n",
       "    </tr>\n",
       "    <tr>\n",
       "      <th>3</th>\n",
       "      <td>949d5b44dbf5de918fe9c16f97b45f8a</td>\n",
       "      <td>f88197465ea7920adcdbec7375364d82</td>\n",
       "      <td>delivered</td>\n",
       "      <td>2017-11-18 19:28:06</td>\n",
       "      <td>2017-11-18 19:45:59</td>\n",
       "      <td>2017-11-22 13:39:59</td>\n",
       "      <td>2017-12-02 00:28:42</td>\n",
       "      <td>2017-12-15</td>\n",
       "      <td>0</td>\n",
       "      <td>1</td>\n",
       "      <td>...</td>\n",
       "      <td>RN</td>\n",
       "      <td>31842.0</td>\n",
       "      <td>-19.840168</td>\n",
       "      <td>-43.923299</td>\n",
       "      <td>belo horizonte</td>\n",
       "      <td>MG</td>\n",
       "      <td>450.0</td>\n",
       "      <td>30.0</td>\n",
       "      <td>10.0</td>\n",
       "      <td>20.0</td>\n",
       "    </tr>\n",
       "    <tr>\n",
       "      <th>4</th>\n",
       "      <td>ad21c59c0840e6cb83a9ceb5573f8159</td>\n",
       "      <td>8ab97904e6daea8866dbdbc4fb7aad2c</td>\n",
       "      <td>delivered</td>\n",
       "      <td>2018-02-13 21:18:39</td>\n",
       "      <td>2018-02-13 22:20:29</td>\n",
       "      <td>2018-02-14 19:46:34</td>\n",
       "      <td>2018-02-16 18:17:02</td>\n",
       "      <td>2018-02-26</td>\n",
       "      <td>0</td>\n",
       "      <td>1</td>\n",
       "      <td>...</td>\n",
       "      <td>SP</td>\n",
       "      <td>8752.0</td>\n",
       "      <td>-23.551707</td>\n",
       "      <td>-46.260979</td>\n",
       "      <td>mogi das cruzes</td>\n",
       "      <td>SP</td>\n",
       "      <td>250.0</td>\n",
       "      <td>51.0</td>\n",
       "      <td>15.0</td>\n",
       "      <td>15.0</td>\n",
       "    </tr>\n",
       "  </tbody>\n",
       "</table>\n",
       "<p>5 rows × 29 columns</p>\n",
       "</div>"
      ],
      "text/plain": [
       "                           order_id                       customer_id  \\\n",
       "0  e481f51cbdc54678b7cc49136f2d6af7  9ef432eb6251297304e76186b10a928d   \n",
       "1  53cdb2fc8bc7dce0b6741e2150273451  b0830fb4747a6c6d20dea0b8c802d7ef   \n",
       "2  47770eb9100c2d0c44946d9cf07ec65d  41ce2a54c0b03bf3443c3d931a367089   \n",
       "3  949d5b44dbf5de918fe9c16f97b45f8a  f88197465ea7920adcdbec7375364d82   \n",
       "4  ad21c59c0840e6cb83a9ceb5573f8159  8ab97904e6daea8866dbdbc4fb7aad2c   \n",
       "\n",
       "  order_status order_purchase_timestamp    order_approved_at  \\\n",
       "0    delivered      2017-10-02 10:56:33  2017-10-02 11:07:15   \n",
       "1    delivered      2018-07-24 20:41:37  2018-07-26 03:24:27   \n",
       "2    delivered      2018-08-08 08:38:49  2018-08-08 08:55:23   \n",
       "3    delivered      2017-11-18 19:28:06  2017-11-18 19:45:59   \n",
       "4    delivered      2018-02-13 21:18:39  2018-02-13 22:20:29   \n",
       "\n",
       "  order_delivered_carrier_date order_delivered_customer_date  \\\n",
       "0          2017-10-04 19:55:00           2017-10-10 21:25:13   \n",
       "1          2018-07-26 14:31:00           2018-08-07 15:27:45   \n",
       "2          2018-08-08 13:50:00           2018-08-17 18:06:29   \n",
       "3          2017-11-22 13:39:59           2017-12-02 00:28:42   \n",
       "4          2018-02-14 19:46:34           2018-02-16 18:17:02   \n",
       "\n",
       "  order_estimated_delivery_date  delay  order_item_id  ...  \\\n",
       "0                    2017-10-18      0              1  ...   \n",
       "1                    2018-08-13      0              1  ...   \n",
       "2                    2018-09-04      0              1  ...   \n",
       "3                    2017-12-15      0              1  ...   \n",
       "4                    2018-02-26      0              1  ...   \n",
       "\n",
       "  geolocation_state_customer geolocation_zip_code_prefix_seller  \\\n",
       "0                         SP                             9350.0   \n",
       "1                         BA                            31570.0   \n",
       "2                         GO                            14840.0   \n",
       "3                         RN                            31842.0   \n",
       "4                         SP                             8752.0   \n",
       "\n",
       "  geolocation_lat_seller  geolocation_lng_seller  geolocation_city_seller  \\\n",
       "0             -23.680114              -46.452454                     maua   \n",
       "1             -19.810119              -43.984727           belo horizonte   \n",
       "2             -21.362358              -48.232976                  guariba   \n",
       "3             -19.840168              -43.923299           belo horizonte   \n",
       "4             -23.551707              -46.260979          mogi das cruzes   \n",
       "\n",
       "   geolocation_state_seller  product_weight_g  product_length_cm  \\\n",
       "0                        SP             500.0               19.0   \n",
       "1                        MG             400.0               19.0   \n",
       "2                        SP             420.0               24.0   \n",
       "3                        MG             450.0               30.0   \n",
       "4                        SP             250.0               51.0   \n",
       "\n",
       "  product_height_cm product_width_cm  \n",
       "0               8.0             13.0  \n",
       "1              13.0             19.0  \n",
       "2              19.0             21.0  \n",
       "3              10.0             20.0  \n",
       "4              15.0             15.0  \n",
       "\n",
       "[5 rows x 29 columns]"
      ]
     },
     "execution_count": 72,
     "metadata": {},
     "output_type": "execute_result"
    }
   ],
   "source": [
    "df.head()"
   ]
  },
  {
   "cell_type": "code",
   "execution_count": 74,
   "metadata": {
    "colab": {
     "base_uri": "https://localhost:8080/"
    },
    "id": "EmfHN0Y67CVS",
    "outputId": "914e03c4-7ef3-489d-d8ca-c190a7a14051"
   },
   "outputs": [
    {
     "data": {
      "text/plain": [
       "(109619, 29)"
      ]
     },
     "execution_count": 74,
     "metadata": {},
     "output_type": "execute_result"
    }
   ],
   "source": [
    "df.shape"
   ]
  },
  {
   "cell_type": "code",
   "execution_count": 76,
   "metadata": {
    "colab": {
     "base_uri": "https://localhost:8080/",
     "height": 320
    },
    "id": "N8s-4J6P3lDd",
    "outputId": "3159fed6-6404-41be-ea18-2c0235e70c56"
   },
   "outputs": [
    {
     "data": {
      "text/html": [
       "<div>\n",
       "<style scoped>\n",
       "    .dataframe tbody tr th:only-of-type {\n",
       "        vertical-align: middle;\n",
       "    }\n",
       "\n",
       "    .dataframe tbody tr th {\n",
       "        vertical-align: top;\n",
       "    }\n",
       "\n",
       "    .dataframe thead th {\n",
       "        text-align: right;\n",
       "    }\n",
       "</style>\n",
       "<table border=\"1\" class=\"dataframe\">\n",
       "  <thead>\n",
       "    <tr style=\"text-align: right;\">\n",
       "      <th></th>\n",
       "      <th>delay</th>\n",
       "      <th>order_item_id</th>\n",
       "      <th>customer_zip_code_prefix</th>\n",
       "      <th>seller_zip_code_prefix</th>\n",
       "      <th>geolocation_zip_code_prefix_customer</th>\n",
       "      <th>geolocation_lat_customer</th>\n",
       "      <th>geolocation_lng_customer</th>\n",
       "      <th>geolocation_zip_code_prefix_seller</th>\n",
       "      <th>geolocation_lat_seller</th>\n",
       "      <th>geolocation_lng_seller</th>\n",
       "      <th>product_weight_g</th>\n",
       "      <th>product_length_cm</th>\n",
       "      <th>product_height_cm</th>\n",
       "      <th>product_width_cm</th>\n",
       "    </tr>\n",
       "  </thead>\n",
       "  <tbody>\n",
       "    <tr>\n",
       "      <th>count</th>\n",
       "      <td>109619.000000</td>\n",
       "      <td>109619.000000</td>\n",
       "      <td>109619.000000</td>\n",
       "      <td>109619.000000</td>\n",
       "      <td>109619.000000</td>\n",
       "      <td>109619.000000</td>\n",
       "      <td>109619.000000</td>\n",
       "      <td>109619.000000</td>\n",
       "      <td>109619.000000</td>\n",
       "      <td>109619.000000</td>\n",
       "      <td>109619.000000</td>\n",
       "      <td>109619.000000</td>\n",
       "      <td>109619.000000</td>\n",
       "      <td>109619.000000</td>\n",
       "    </tr>\n",
       "    <tr>\n",
       "      <th>mean</th>\n",
       "      <td>0.079010</td>\n",
       "      <td>1.198506</td>\n",
       "      <td>35075.926245</td>\n",
       "      <td>24478.563625</td>\n",
       "      <td>35075.926245</td>\n",
       "      <td>-21.246685</td>\n",
       "      <td>-46.216125</td>\n",
       "      <td>24478.563625</td>\n",
       "      <td>-22.801449</td>\n",
       "      <td>-47.240495</td>\n",
       "      <td>2087.938715</td>\n",
       "      <td>30.134457</td>\n",
       "      <td>16.575265</td>\n",
       "      <td>22.975579</td>\n",
       "    </tr>\n",
       "    <tr>\n",
       "      <th>std</th>\n",
       "      <td>0.269756</td>\n",
       "      <td>0.707761</td>\n",
       "      <td>29887.814951</td>\n",
       "      <td>27634.610555</td>\n",
       "      <td>29887.814951</td>\n",
       "      <td>5.570509</td>\n",
       "      <td>4.043632</td>\n",
       "      <td>27634.610555</td>\n",
       "      <td>2.703291</td>\n",
       "      <td>2.342634</td>\n",
       "      <td>3736.427270</td>\n",
       "      <td>16.114594</td>\n",
       "      <td>13.419464</td>\n",
       "      <td>11.661143</td>\n",
       "    </tr>\n",
       "    <tr>\n",
       "      <th>min</th>\n",
       "      <td>0.000000</td>\n",
       "      <td>1.000000</td>\n",
       "      <td>1003.000000</td>\n",
       "      <td>1001.000000</td>\n",
       "      <td>1003.000000</td>\n",
       "      <td>-36.605374</td>\n",
       "      <td>-72.666706</td>\n",
       "      <td>1001.000000</td>\n",
       "      <td>-36.605374</td>\n",
       "      <td>-64.283946</td>\n",
       "      <td>0.000000</td>\n",
       "      <td>7.000000</td>\n",
       "      <td>2.000000</td>\n",
       "      <td>6.000000</td>\n",
       "    </tr>\n",
       "    <tr>\n",
       "      <th>25%</th>\n",
       "      <td>0.000000</td>\n",
       "      <td>1.000000</td>\n",
       "      <td>11090.000000</td>\n",
       "      <td>6429.000000</td>\n",
       "      <td>11090.000000</td>\n",
       "      <td>-23.591202</td>\n",
       "      <td>-48.125580</td>\n",
       "      <td>6429.000000</td>\n",
       "      <td>-23.611243</td>\n",
       "      <td>-48.831547</td>\n",
       "      <td>300.000000</td>\n",
       "      <td>18.000000</td>\n",
       "      <td>8.000000</td>\n",
       "      <td>15.000000</td>\n",
       "    </tr>\n",
       "    <tr>\n",
       "      <th>50%</th>\n",
       "      <td>0.000000</td>\n",
       "      <td>1.000000</td>\n",
       "      <td>24241.000000</td>\n",
       "      <td>13575.000000</td>\n",
       "      <td>24241.000000</td>\n",
       "      <td>-22.931016</td>\n",
       "      <td>-46.634516</td>\n",
       "      <td>13575.000000</td>\n",
       "      <td>-23.422313</td>\n",
       "      <td>-46.755211</td>\n",
       "      <td>700.000000</td>\n",
       "      <td>25.000000</td>\n",
       "      <td>13.000000</td>\n",
       "      <td>20.000000</td>\n",
       "    </tr>\n",
       "    <tr>\n",
       "      <th>75%</th>\n",
       "      <td>0.000000</td>\n",
       "      <td>1.000000</td>\n",
       "      <td>58755.000000</td>\n",
       "      <td>27930.000000</td>\n",
       "      <td>58755.000000</td>\n",
       "      <td>-20.198222</td>\n",
       "      <td>-43.673679</td>\n",
       "      <td>27930.000000</td>\n",
       "      <td>-21.766477</td>\n",
       "      <td>-46.518082</td>\n",
       "      <td>1800.000000</td>\n",
       "      <td>38.000000</td>\n",
       "      <td>20.000000</td>\n",
       "      <td>30.000000</td>\n",
       "    </tr>\n",
       "    <tr>\n",
       "      <th>max</th>\n",
       "      <td>1.000000</td>\n",
       "      <td>21.000000</td>\n",
       "      <td>99980.000000</td>\n",
       "      <td>99730.000000</td>\n",
       "      <td>99980.000000</td>\n",
       "      <td>42.184003</td>\n",
       "      <td>-8.577855</td>\n",
       "      <td>99730.000000</td>\n",
       "      <td>-2.546079</td>\n",
       "      <td>-34.847856</td>\n",
       "      <td>40425.000000</td>\n",
       "      <td>105.000000</td>\n",
       "      <td>105.000000</td>\n",
       "      <td>118.000000</td>\n",
       "    </tr>\n",
       "  </tbody>\n",
       "</table>\n",
       "</div>"
      ],
      "text/plain": [
       "               delay  order_item_id  customer_zip_code_prefix  \\\n",
       "count  109619.000000  109619.000000             109619.000000   \n",
       "mean        0.079010       1.198506              35075.926245   \n",
       "std         0.269756       0.707761              29887.814951   \n",
       "min         0.000000       1.000000               1003.000000   \n",
       "25%         0.000000       1.000000              11090.000000   \n",
       "50%         0.000000       1.000000              24241.000000   \n",
       "75%         0.000000       1.000000              58755.000000   \n",
       "max         1.000000      21.000000              99980.000000   \n",
       "\n",
       "       seller_zip_code_prefix  geolocation_zip_code_prefix_customer  \\\n",
       "count           109619.000000                         109619.000000   \n",
       "mean             24478.563625                          35075.926245   \n",
       "std              27634.610555                          29887.814951   \n",
       "min               1001.000000                           1003.000000   \n",
       "25%               6429.000000                          11090.000000   \n",
       "50%              13575.000000                          24241.000000   \n",
       "75%              27930.000000                          58755.000000   \n",
       "max              99730.000000                          99980.000000   \n",
       "\n",
       "       geolocation_lat_customer  geolocation_lng_customer  \\\n",
       "count             109619.000000             109619.000000   \n",
       "mean                 -21.246685                -46.216125   \n",
       "std                    5.570509                  4.043632   \n",
       "min                  -36.605374                -72.666706   \n",
       "25%                  -23.591202                -48.125580   \n",
       "50%                  -22.931016                -46.634516   \n",
       "75%                  -20.198222                -43.673679   \n",
       "max                   42.184003                 -8.577855   \n",
       "\n",
       "       geolocation_zip_code_prefix_seller  geolocation_lat_seller  \\\n",
       "count                       109619.000000           109619.000000   \n",
       "mean                         24478.563625              -22.801449   \n",
       "std                          27634.610555                2.703291   \n",
       "min                           1001.000000              -36.605374   \n",
       "25%                           6429.000000              -23.611243   \n",
       "50%                          13575.000000              -23.422313   \n",
       "75%                          27930.000000              -21.766477   \n",
       "max                          99730.000000               -2.546079   \n",
       "\n",
       "       geolocation_lng_seller  product_weight_g  product_length_cm  \\\n",
       "count           109619.000000     109619.000000      109619.000000   \n",
       "mean               -47.240495       2087.938715          30.134457   \n",
       "std                  2.342634       3736.427270          16.114594   \n",
       "min                -64.283946          0.000000           7.000000   \n",
       "25%                -48.831547        300.000000          18.000000   \n",
       "50%                -46.755211        700.000000          25.000000   \n",
       "75%                -46.518082       1800.000000          38.000000   \n",
       "max                -34.847856      40425.000000         105.000000   \n",
       "\n",
       "       product_height_cm  product_width_cm  \n",
       "count      109619.000000     109619.000000  \n",
       "mean           16.575265         22.975579  \n",
       "std            13.419464         11.661143  \n",
       "min             2.000000          6.000000  \n",
       "25%             8.000000         15.000000  \n",
       "50%            13.000000         20.000000  \n",
       "75%            20.000000         30.000000  \n",
       "max           105.000000        118.000000  "
      ]
     },
     "execution_count": 76,
     "metadata": {},
     "output_type": "execute_result"
    }
   ],
   "source": [
    "df.describe()"
   ]
  },
  {
   "cell_type": "markdown",
   "metadata": {
    "id": "GQ8HmyCp2GQD"
   },
   "source": [
    "## Feature Extraction"
   ]
  },
  {
   "cell_type": "code",
   "execution_count": 78,
   "metadata": {
    "colab": {
     "base_uri": "https://localhost:8080/"
    },
    "id": "sNj_eic00Ma6",
    "outputId": "4bb0c1c3-2d6e-471a-8548-55b2a138b19b"
   },
   "outputs": [
    {
     "name": "stdout",
     "output_type": "stream",
     "text": [
      "Existing columns in the Dataset\n"
     ]
    },
    {
     "data": {
      "text/plain": [
       "Index(['order_id', 'customer_id', 'order_status', 'order_purchase_timestamp',\n",
       "       'order_approved_at', 'order_delivered_carrier_date',\n",
       "       'order_delivered_customer_date', 'order_estimated_delivery_date',\n",
       "       'delay', 'order_item_id', 'product_id', 'seller_id',\n",
       "       'shipping_limit_date', 'customer_zip_code_prefix',\n",
       "       'seller_zip_code_prefix', 'geolocation_zip_code_prefix_customer',\n",
       "       'geolocation_lat_customer', 'geolocation_lng_customer',\n",
       "       'geolocation_city_customer', 'geolocation_state_customer',\n",
       "       'geolocation_zip_code_prefix_seller', 'geolocation_lat_seller',\n",
       "       'geolocation_lng_seller', 'geolocation_city_seller',\n",
       "       'geolocation_state_seller', 'product_weight_g', 'product_length_cm',\n",
       "       'product_height_cm', 'product_width_cm'],\n",
       "      dtype='object')"
      ]
     },
     "execution_count": 78,
     "metadata": {},
     "output_type": "execute_result"
    }
   ],
   "source": [
    "# Display column names\n",
    "print(\"Existing columns in the Dataset\")\n",
    "df.columns"
   ]
  },
  {
   "cell_type": "code",
   "execution_count": 80,
   "metadata": {
    "colab": {
     "base_uri": "https://localhost:8080/",
     "height": 993
    },
    "id": "QCqxTeeK3xgG",
    "outputId": "22d398b4-fda5-4425-eaba-cb36f36e2478"
   },
   "outputs": [
    {
     "data": {
      "text/plain": [
       "order_id                                 object\n",
       "customer_id                              object\n",
       "order_status                             object\n",
       "order_purchase_timestamp                 object\n",
       "order_approved_at                        object\n",
       "order_delivered_carrier_date             object\n",
       "order_delivered_customer_date            object\n",
       "order_estimated_delivery_date            object\n",
       "delay                                     int64\n",
       "order_item_id                             int64\n",
       "product_id                               object\n",
       "seller_id                                object\n",
       "shipping_limit_date                      object\n",
       "customer_zip_code_prefix                  int64\n",
       "seller_zip_code_prefix                    int64\n",
       "geolocation_zip_code_prefix_customer    float64\n",
       "geolocation_lat_customer                float64\n",
       "geolocation_lng_customer                float64\n",
       "geolocation_city_customer                object\n",
       "geolocation_state_customer               object\n",
       "geolocation_zip_code_prefix_seller      float64\n",
       "geolocation_lat_seller                  float64\n",
       "geolocation_lng_seller                  float64\n",
       "geolocation_city_seller                  object\n",
       "geolocation_state_seller                 object\n",
       "product_weight_g                        float64\n",
       "product_length_cm                       float64\n",
       "product_height_cm                       float64\n",
       "product_width_cm                        float64\n",
       "dtype: object"
      ]
     },
     "execution_count": 80,
     "metadata": {},
     "output_type": "execute_result"
    }
   ],
   "source": [
    "# Data types of existing columns\n",
    "df.dtypes"
   ]
  },
  {
   "cell_type": "code",
   "execution_count": 82,
   "metadata": {
    "id": "Jt9nYTUf4511"
   },
   "outputs": [],
   "source": [
    "# Convert order_purchase_timestamp to datetime\n",
    "df['order_purchase_timestamp'] = pd.to_datetime(df['order_purchase_timestamp'], errors='coerce')\n"
   ]
  },
  {
   "cell_type": "code",
   "execution_count": 84,
   "metadata": {
    "id": "mATRK6RB5Bwi"
   },
   "outputs": [],
   "source": [
    "# Extract order_month and order_day_of_week\n",
    "df['order_month'] = df['order_purchase_timestamp'].dt.month\n",
    "df['order_day_of_week'] = df['order_purchase_timestamp'].dt.dayofweek\n"
   ]
  },
  {
   "cell_type": "code",
   "execution_count": 86,
   "metadata": {
    "id": "KSfR7GK35DZJ"
   },
   "outputs": [],
   "source": [
    "# Compute distance_km using latitude & longitude\n",
    "def calculate_distance(row):\n",
    "    try:\n",
    "        customer_loc = (row['geolocation_lat_customer'], row['geolocation_lng_customer'])\n",
    "        seller_loc = (row['geolocation_lat_seller'], row['geolocation_lng_seller'])\n",
    "        return geodesic(customer_loc, seller_loc).km\n",
    "    except:\n",
    "        return None\n"
   ]
  },
  {
   "cell_type": "code",
   "execution_count": 88,
   "metadata": {
    "colab": {
     "base_uri": "https://localhost:8080/",
     "height": 458
    },
    "id": "1vDNUrW35Esy",
    "outputId": "eb3c48fa-2556-4339-a4bb-b97c8e6567e0"
   },
   "outputs": [
    {
     "data": {
      "text/plain": [
       "0           18.051106\n",
       "1          852.256379\n",
       "2          511.820721\n",
       "3         1816.652139\n",
       "4           30.189028\n",
       "             ...     \n",
       "109614     474.239469\n",
       "109615     967.147828\n",
       "109616     370.231030\n",
       "109617     370.231030\n",
       "109618     629.767991\n",
       "Name: distance_km, Length: 109619, dtype: float64"
      ]
     },
     "execution_count": 88,
     "metadata": {},
     "output_type": "execute_result"
    }
   ],
   "source": [
    "df['distance_km'] = df.apply(calculate_distance, axis=1)\n",
    "df['distance_km']"
   ]
  },
  {
   "cell_type": "code",
   "execution_count": 90,
   "metadata": {
    "id": "BG0npzsu5m3a"
   },
   "outputs": [],
   "source": [
    "# Create same_state (1 if customer and seller are in the same state, else 0)\n",
    "df['same_state'] = (df['geolocation_state_customer'] == df['geolocation_state_seller']).astype(int)\n"
   ]
  },
  {
   "cell_type": "code",
   "execution_count": 92,
   "metadata": {
    "colab": {
     "base_uri": "https://localhost:8080/"
    },
    "id": "zNsz_Tgn5s7p",
    "outputId": "9bcbfe96-faf2-467e-be1c-95bbe788487c"
   },
   "outputs": [
    {
     "name": "stdout",
     "output_type": "stream",
     "text": [
      "✅ Extracted features saved as 'extracted_features_dataset.csv'\n"
     ]
    }
   ],
   "source": [
    "# Select required columns and save to a new dataset\n",
    "selected_features = [\"distance_km\", \"same_state\", \"order_day_of_week\", \"order_month\", \"delay\"]\n",
    "df[selected_features].to_csv(\"extracted_features_dataset.csv\", index=False)\n",
    "print(\"✅ Extracted features saved as 'extracted_features_dataset.csv'\")"
   ]
  },
  {
   "cell_type": "markdown",
   "metadata": {
    "id": "1C6W7aOxyi0b"
   },
   "source": [
    "## Load the new dataset"
   ]
  },
  {
   "cell_type": "code",
   "execution_count": 95,
   "metadata": {
    "colab": {
     "base_uri": "https://localhost:8080/",
     "height": 423
    },
    "id": "PYRSdh9i6mBi",
    "outputId": "9cf7d517-1389-4474-c947-8258a332fec0"
   },
   "outputs": [
    {
     "data": {
      "text/html": [
       "<div>\n",
       "<style scoped>\n",
       "    .dataframe tbody tr th:only-of-type {\n",
       "        vertical-align: middle;\n",
       "    }\n",
       "\n",
       "    .dataframe tbody tr th {\n",
       "        vertical-align: top;\n",
       "    }\n",
       "\n",
       "    .dataframe thead th {\n",
       "        text-align: right;\n",
       "    }\n",
       "</style>\n",
       "<table border=\"1\" class=\"dataframe\">\n",
       "  <thead>\n",
       "    <tr style=\"text-align: right;\">\n",
       "      <th></th>\n",
       "      <th>distance_km</th>\n",
       "      <th>same_state</th>\n",
       "      <th>order_day_of_week</th>\n",
       "      <th>order_month</th>\n",
       "      <th>delay</th>\n",
       "    </tr>\n",
       "  </thead>\n",
       "  <tbody>\n",
       "    <tr>\n",
       "      <th>0</th>\n",
       "      <td>18.051106</td>\n",
       "      <td>1</td>\n",
       "      <td>0</td>\n",
       "      <td>10</td>\n",
       "      <td>0</td>\n",
       "    </tr>\n",
       "    <tr>\n",
       "      <th>1</th>\n",
       "      <td>852.256379</td>\n",
       "      <td>0</td>\n",
       "      <td>1</td>\n",
       "      <td>7</td>\n",
       "      <td>0</td>\n",
       "    </tr>\n",
       "    <tr>\n",
       "      <th>2</th>\n",
       "      <td>511.820721</td>\n",
       "      <td>0</td>\n",
       "      <td>2</td>\n",
       "      <td>8</td>\n",
       "      <td>0</td>\n",
       "    </tr>\n",
       "    <tr>\n",
       "      <th>3</th>\n",
       "      <td>1816.652139</td>\n",
       "      <td>0</td>\n",
       "      <td>5</td>\n",
       "      <td>11</td>\n",
       "      <td>0</td>\n",
       "    </tr>\n",
       "    <tr>\n",
       "      <th>4</th>\n",
       "      <td>30.189028</td>\n",
       "      <td>1</td>\n",
       "      <td>1</td>\n",
       "      <td>2</td>\n",
       "      <td>0</td>\n",
       "    </tr>\n",
       "    <tr>\n",
       "      <th>...</th>\n",
       "      <td>...</td>\n",
       "      <td>...</td>\n",
       "      <td>...</td>\n",
       "      <td>...</td>\n",
       "      <td>...</td>\n",
       "    </tr>\n",
       "    <tr>\n",
       "      <th>109614</th>\n",
       "      <td>474.239469</td>\n",
       "      <td>1</td>\n",
       "      <td>1</td>\n",
       "      <td>2</td>\n",
       "      <td>0</td>\n",
       "    </tr>\n",
       "    <tr>\n",
       "      <th>109615</th>\n",
       "      <td>967.147828</td>\n",
       "      <td>0</td>\n",
       "      <td>6</td>\n",
       "      <td>8</td>\n",
       "      <td>0</td>\n",
       "    </tr>\n",
       "    <tr>\n",
       "      <th>109616</th>\n",
       "      <td>370.231030</td>\n",
       "      <td>0</td>\n",
       "      <td>0</td>\n",
       "      <td>1</td>\n",
       "      <td>0</td>\n",
       "    </tr>\n",
       "    <tr>\n",
       "      <th>109617</th>\n",
       "      <td>370.231030</td>\n",
       "      <td>0</td>\n",
       "      <td>0</td>\n",
       "      <td>1</td>\n",
       "      <td>0</td>\n",
       "    </tr>\n",
       "    <tr>\n",
       "      <th>109618</th>\n",
       "      <td>629.767991</td>\n",
       "      <td>0</td>\n",
       "      <td>3</td>\n",
       "      <td>3</td>\n",
       "      <td>0</td>\n",
       "    </tr>\n",
       "  </tbody>\n",
       "</table>\n",
       "<p>109619 rows × 5 columns</p>\n",
       "</div>"
      ],
      "text/plain": [
       "        distance_km  same_state  order_day_of_week  order_month  delay\n",
       "0         18.051106           1                  0           10      0\n",
       "1        852.256379           0                  1            7      0\n",
       "2        511.820721           0                  2            8      0\n",
       "3       1816.652139           0                  5           11      0\n",
       "4         30.189028           1                  1            2      0\n",
       "...             ...         ...                ...          ...    ...\n",
       "109614   474.239469           1                  1            2      0\n",
       "109615   967.147828           0                  6            8      0\n",
       "109616   370.231030           0                  0            1      0\n",
       "109617   370.231030           0                  0            1      0\n",
       "109618   629.767991           0                  3            3      0\n",
       "\n",
       "[109619 rows x 5 columns]"
      ]
     },
     "execution_count": 95,
     "metadata": {},
     "output_type": "execute_result"
    }
   ],
   "source": [
    "new_df = pd.read_csv('extracted_features_dataset.csv')\n",
    "new_df"
   ]
  },
  {
   "cell_type": "code",
   "execution_count": 97,
   "metadata": {
    "colab": {
     "base_uri": "https://localhost:8080/"
    },
    "id": "NJ932Gg5zsbQ",
    "outputId": "04d0ff84-d8d5-44b9-b7c7-406c5ed723dc"
   },
   "outputs": [
    {
     "data": {
      "text/plain": [
       "Index(['distance_km', 'same_state', 'order_day_of_week', 'order_month',\n",
       "       'delay'],\n",
       "      dtype='object')"
      ]
     },
     "execution_count": 97,
     "metadata": {},
     "output_type": "execute_result"
    }
   ],
   "source": [
    "new_df.columns"
   ]
  },
  {
   "cell_type": "code",
   "execution_count": 99,
   "metadata": {
    "colab": {
     "base_uri": "https://localhost:8080/"
    },
    "id": "RSzPUkw-65W2",
    "outputId": "d9017ff4-dce8-41ce-a32c-308c5c2df70a"
   },
   "outputs": [
    {
     "name": "stdout",
     "output_type": "stream",
     "text": [
      "Missing values after cleaning:\n",
      " distance_km          0\n",
      "same_state           0\n",
      "order_day_of_week    0\n",
      "order_month          0\n",
      "delay                0\n",
      "dtype: int64\n"
     ]
    }
   ],
   "source": [
    "# Handle missing values\n",
    "# Drop rows with NaN values in essential features (if needed)\n",
    "new_df = new_df.dropna()\n",
    "\n",
    "# OR: Fill NaN values with median (recommended for numerical data)\n",
    "new_df.fillna(new_df.median(), inplace=True)\n",
    "\n",
    "# Verify if NaNs are handled\n",
    "print(\"Missing values after cleaning:\\n\", new_df.isna().sum())"
   ]
  },
  {
   "cell_type": "code",
   "execution_count": 101,
   "metadata": {
    "colab": {
     "base_uri": "https://localhost:8080/"
    },
    "id": "WSzC7N9d6-nc",
    "outputId": "d00cd332-9cb8-414f-dfff-9c22c5b859a5"
   },
   "outputs": [
    {
     "name": "stdout",
     "output_type": "stream",
     "text": [
      "delay\n",
      "0    100958\n",
      "1      8661\n",
      "Name: count, dtype: int64\n"
     ]
    }
   ],
   "source": [
    "# Check class imbalance\n",
    "print(new_df['delay'].value_counts())"
   ]
  },
  {
   "cell_type": "markdown",
   "metadata": {
    "id": "nZUdyVUjjPcl"
   },
   "source": [
    "## Train, Validation,Test Split"
   ]
  },
  {
   "cell_type": "code",
   "execution_count": 103,
   "metadata": {
    "id": "Ddyftw2hzvhf"
   },
   "outputs": [],
   "source": [
    "# Step 4: Select features & target\n",
    "features = [\"distance_km\", \"same_state\", \"order_day_of_week\", \"order_month\"]\n",
    "X = new_df[features]\n",
    "y = new_df[\"delay\"]"
   ]
  },
  {
   "cell_type": "code",
   "execution_count": 105,
   "metadata": {
    "colab": {
     "base_uri": "https://localhost:8080/"
    },
    "id": "_uiHqVOb0VTF",
    "outputId": "f27747c8-881f-4f4a-a055-1c0ec5edd9ad"
   },
   "outputs": [
    {
     "name": "stdout",
     "output_type": "stream",
     "text": [
      "X shape: (109619, 4)\n",
      "y shape: (109619,)\n"
     ]
    }
   ],
   "source": [
    "print(\"X shape:\", X.shape)\n",
    "print(\"y shape:\", y.shape)"
   ]
  },
  {
   "cell_type": "code",
   "execution_count": 107,
   "metadata": {
    "id": "alMlEqZCz8gh"
   },
   "outputs": [],
   "source": [
    "# Step 5: Split into Train, Validation, and Test sets\n",
    "X_train, X_temp, y_train, y_temp = train_test_split(X, y, test_size=0.3, random_state=42, stratify=y)\n",
    "X_val, X_test, y_val, y_test = train_test_split(X_temp, y_temp, test_size=0.5, random_state=42, stratify=y_temp)\n"
   ]
  },
  {
   "cell_type": "code",
   "execution_count": 109,
   "metadata": {
    "colab": {
     "base_uri": "https://localhost:8080/"
    },
    "id": "H6u-SEaU3jDh",
    "outputId": "9ac486bb-55af-427f-c98a-5c4229e6977b"
   },
   "outputs": [
    {
     "name": "stdout",
     "output_type": "stream",
     "text": [
      "(76733, 4)\n",
      "(76733,)\n"
     ]
    }
   ],
   "source": [
    "# Records in Training Set\n",
    "print(X_train.shape)\n",
    "print(y_train.shape)"
   ]
  },
  {
   "cell_type": "code",
   "execution_count": 111,
   "metadata": {
    "colab": {
     "base_uri": "https://localhost:8080/"
    },
    "id": "Nd-tIbsa3jRe",
    "outputId": "6cf3afbd-4869-4fbf-9cf3-edeaee46174a"
   },
   "outputs": [
    {
     "name": "stdout",
     "output_type": "stream",
     "text": [
      "(16443, 4)\n",
      "(16443,)\n"
     ]
    }
   ],
   "source": [
    "# Records in Validation Set\n",
    "print(X_val.shape)\n",
    "print(y_val.shape)"
   ]
  },
  {
   "cell_type": "code",
   "execution_count": 113,
   "metadata": {
    "colab": {
     "base_uri": "https://localhost:8080/"
    },
    "id": "W017tGJW3jYC",
    "outputId": "b626c013-ba21-4bbe-fd09-a3203e893943"
   },
   "outputs": [
    {
     "name": "stdout",
     "output_type": "stream",
     "text": [
      "(16443, 4)\n",
      "(16443,)\n"
     ]
    }
   ],
   "source": [
    "# Records in Test Set\n",
    "print(X_test.shape)\n",
    "print(y_test.shape)"
   ]
  },
  {
   "cell_type": "markdown",
   "metadata": {
    "id": "6yCsP5GMh4MK"
   },
   "source": [
    "### ✅ Check Class Imbalance in Training"
   ]
  },
  {
   "cell_type": "code",
   "execution_count": 115,
   "metadata": {
    "colab": {
     "base_uri": "https://localhost:8080/"
    },
    "id": "Hkvhj15Mh1cR",
    "outputId": "68450020-f7c2-42bd-bbeb-36cf4f676f10"
   },
   "outputs": [
    {
     "name": "stdout",
     "output_type": "stream",
     "text": [
      "Class distribution in y_train:\n",
      "Counter({0: 70670, 1: 6063})\n",
      "\n",
      "Percentage distribution:\n",
      "delay\n",
      "0    92.098576\n",
      "1     7.901424\n",
      "Name: proportion, dtype: float64\n"
     ]
    }
   ],
   "source": [
    "print(\"Class distribution in y_train:\")\n",
    "print(Counter(y_train))\n",
    "\n",
    "# Or using pandas\n",
    "print(\"\\nPercentage distribution:\")\n",
    "print(y_train.value_counts(normalize=True) * 100)"
   ]
  },
  {
   "cell_type": "markdown",
   "metadata": {
    "id": "iO3P19eVqww2"
   },
   "source": [
    "### Normalize the features"
   ]
  },
  {
   "cell_type": "code",
   "execution_count": 117,
   "metadata": {
    "id": "hvKq_-CGqyN8"
   },
   "outputs": [],
   "source": [
    "scaler = StandardScaler()\n",
    "X_train_scaled = scaler.fit_transform(X_train)   # Fit only on training\n",
    "X_val_scaled = scaler.transform(X_val)           # Transform val\n",
    "X_test_scaled = scaler.transform(X_test)         # Transform test"
   ]
  },
  {
   "cell_type": "markdown",
   "metadata": {
    "id": "aOubg9AXjlyA"
   },
   "source": [
    "## Resampling (on Train Set)"
   ]
  },
  {
   "cell_type": "markdown",
   "metadata": {
    "id": "XfzY6BsefwHv"
   },
   "source": [
    "**Resampling Techniques for Imbalanced Classification**\n",
    "1. Random Undersampling\n",
    "2. Random Oversampling\n",
    "3. SMOTE (Synthetic Minority Over-sampling Technique)\n",
    "4. SMOTE + Tomket Links (Hybrid)\n",
    "5. ADASYN\n",
    "\n",
    "Note: Use only one out of all the resampling methods."
   ]
  },
  {
   "cell_type": "code",
   "execution_count": 119,
   "metadata": {
    "colab": {
     "base_uri": "https://localhost:8080/"
    },
    "id": "8N0jixJdirGu",
    "outputId": "dc03a9b7-aeea-472c-dc2f-12d984c1226f"
   },
   "outputs": [
    {
     "name": "stdout",
     "output_type": "stream",
     "text": [
      "Before Resampling: Counter({0: 70670, 1: 6063})\n"
     ]
    }
   ],
   "source": [
    "# Check original distribution\n",
    "print(\"Before Resampling:\", Counter(y_train))"
   ]
  },
  {
   "cell_type": "markdown",
   "metadata": {
    "id": "AcZiwF5-lZQH"
   },
   "source": [
    "**1. Random Undersampling**"
   ]
  },
  {
   "cell_type": "code",
   "execution_count": 60,
   "metadata": {
    "id": "BtGshwUmlYNm"
   },
   "outputs": [],
   "source": [
    "# rus = RandomUnderSampler(random_state=42)\n",
    "# X_rus, y_rus = rus.fit_resample(X_train_scaled, y_train)\n",
    "# print(\"After RandomUnderSampler:\", Counter(y_rus))\n"
   ]
  },
  {
   "cell_type": "markdown",
   "metadata": {
    "id": "Euq6QHGFlwf9"
   },
   "source": [
    "**2. Random Oversampling**"
   ]
  },
  {
   "cell_type": "code",
   "execution_count": 121,
   "metadata": {
    "colab": {
     "base_uri": "https://localhost:8080/"
    },
    "id": "qkBD3oXRlzzv",
    "outputId": "4f53faaa-0d51-46ff-edfb-3a6f084614eb"
   },
   "outputs": [
    {
     "name": "stdout",
     "output_type": "stream",
     "text": [
      "After RandomOverSampler: Counter({0: 70670, 1: 70670})\n"
     ]
    }
   ],
   "source": [
    "ros = RandomOverSampler(random_state=42)\n",
    "X_ros, y_ros = ros.fit_resample(X_train_scaled, y_train)\n",
    "print(\"After RandomOverSampler:\", Counter(y_ros))\n"
   ]
  },
  {
   "cell_type": "markdown",
   "metadata": {
    "id": "2AGEP66PupK6"
   },
   "source": [
    "**3. SMOTE (Synthetic Minority Over-sampling Technique)**"
   ]
  },
  {
   "cell_type": "code",
   "execution_count": null,
   "metadata": {
    "id": "jD2FWU7Zu4CY"
   },
   "outputs": [],
   "source": [
    "# smote = SMOTE(random_state=42)\n",
    "# X_smote, y_smote = smote.fit_resample(X_train_scaled, y_train)\n",
    "# print(\"After SMOTE:\", Counter(y_smote))\n"
   ]
  },
  {
   "cell_type": "markdown",
   "metadata": {
    "id": "moHpKTy2uzGv"
   },
   "source": [
    "**4.  SMOTE + TomekLinks (Hybrid: Over + Under Sampling)**"
   ]
  },
  {
   "cell_type": "code",
   "execution_count": null,
   "metadata": {
    "id": "MAcJqajRuwqp"
   },
   "outputs": [],
   "source": [
    "# smt = SMOTETomek(random_state=42)\n",
    "# X_smt, y_smt = smt.fit_resample(X_train_scaled, y_train)\n",
    "# print(\"After SMOTE + TomekLinks:\", Counter(y_smt))\n"
   ]
  },
  {
   "cell_type": "markdown",
   "metadata": {
    "id": "6fa028O3vc6H"
   },
   "source": [
    "**5. ADASYN (Adaptive Synthetic Sampling)**"
   ]
  },
  {
   "cell_type": "code",
   "execution_count": null,
   "metadata": {
    "id": "bmdIOFJCuwwS"
   },
   "outputs": [],
   "source": [
    "# adasyn = ADASYN(random_state=42)\n",
    "# X_adasyn, y_adasyn = adasyn.fit_resample(X_train_scaled, y_train)\n",
    "# print(\"After ADASYN:\", Counter(y_adasyn))"
   ]
  },
  {
   "cell_type": "markdown",
   "metadata": {
    "id": "rjbN_N6RwGlC"
   },
   "source": [
    "***Conclusion: Random Oversampling gives the best results out of all***"
   ]
  },
  {
   "cell_type": "markdown",
   "metadata": {
    "id": "oAGMdrGuvxon"
   },
   "source": [
    "## Model Training and Evaluation"
   ]
  },
  {
   "cell_type": "code",
   "execution_count": 123,
   "metadata": {
    "id": "tl83MnkCv0Gz"
   },
   "outputs": [],
   "source": [
    "warnings.filterwarnings(\"ignore\")\n",
    "\n",
    "models = {\n",
    "    \"Logistic Regression\": LogisticRegression(max_iter=1000, random_state=42),\n",
    "    \"Decision Tree\": DecisionTreeClassifier(random_state=42),\n",
    "    \"Random Forest\": RandomForestClassifier(random_state=42),\n",
    "    \"Gradient Boosting (sklearn)\": GradientBoostingClassifier(random_state=42),\n",
    "    \"XGBoost\": XGBClassifier(use_label_encoder=False, eval_metric='logloss', random_state=42),\n",
    "    \"LightGBM\": LGBMClassifier(random_state=42),\n",
    "}\n",
    "\n",
    "# bagging"
   ]
  },
  {
   "cell_type": "code",
   "execution_count": 125,
   "metadata": {
    "colab": {
     "base_uri": "https://localhost:8080/"
    },
    "id": "-GpSx4tu7BIr",
    "outputId": "22a01869-fd73-4def-9f52-48320ae05a78"
   },
   "outputs": [
    {
     "name": "stdout",
     "output_type": "stream",
     "text": [
      "[LightGBM] [Info] Number of positive: 70670, number of negative: 70670\n",
      "[LightGBM] [Info] Auto-choosing row-wise multi-threading, the overhead of testing was 0.003346 seconds.\n",
      "You can set `force_row_wise=true` to remove the overhead.\n",
      "And if memory is not enough, you can set `force_col_wise=true`.\n",
      "[LightGBM] [Info] Total Bins 279\n",
      "[LightGBM] [Info] Number of data points in the train set: 141340, number of used features: 4\n",
      "[LightGBM] [Info] [binary:BoostFromScore]: pavg=0.500000 -> initscore=0.000000\n",
      "\n",
      "✅ Final validation Accuracies:\n",
      "                             Accuracy\n",
      "Decision Tree                  0.8824\n",
      "Random Forest                  0.8812\n",
      "XGBoost                        0.7047\n",
      "LightGBM                       0.6937\n",
      "Gradient Boosting (sklearn)    0.6788\n",
      "Logistic Regression            0.5453\n",
      "\n",
      "📌 Validation Classification Report (Weighted Avg):\n",
      "                             Precision  Recall  F1-Score  Support\n",
      "Model                                                            \n",
      "Logistic Regression             0.8701  0.5453    0.6463  16443.0\n",
      "Decision Tree                   0.8839  0.8824    0.8832  16443.0\n",
      "Random Forest                   0.8835  0.8812    0.8823  16443.0\n",
      "Gradient Boosting (sklearn)     0.8926  0.6788    0.7524  16443.0\n",
      "XGBoost                         0.8925  0.7047    0.7714  16443.0\n",
      "LightGBM                        0.8947  0.6937    0.7635  16443.0\n",
      "\n",
      "🧩 Confusion Matrix - Logistic Regression\n",
      "[[8225 6919]\n",
      " [ 558  741]]\n",
      "\n",
      "🧩 Confusion Matrix - Decision Tree\n",
      "[[14158   986]\n",
      " [  948   351]]\n",
      "\n",
      "🧩 Confusion Matrix - Random Forest\n",
      "[[14139  1005]\n",
      " [  949   350]]\n",
      "\n",
      "🧩 Confusion Matrix - Gradient Boosting (sklearn)\n",
      "[[10332  4812]\n",
      " [  469   830]]\n",
      "\n",
      "🧩 Confusion Matrix - XGBoost\n",
      "[[10788  4356]\n",
      " [  499   800]]\n",
      "\n",
      "🧩 Confusion Matrix - LightGBM\n",
      "[[10568  4576]\n",
      " [  461   838]]\n"
     ]
    }
   ],
   "source": [
    "# Initialize results\n",
    "val_accuracies = {}\n",
    "val_reports = {}\n",
    "val_conf_matrices = {}\n",
    "\n",
    "# Loop through models\n",
    "for name, model in models.items():\n",
    "    model.fit(X_ros, y_ros)  # Train on resampled data\n",
    "    y_val_pred = model.predict(X_val_scaled)       # Predict on scaled test set\n",
    "\n",
    "    # Accuracy\n",
    "    val_accuracies[name] = accuracy_score(y_val, y_val_pred)\n",
    "\n",
    "    # Classification report\n",
    "    val_reports[name] = classification_report(y_val, y_val_pred, output_dict=True)\n",
    "\n",
    "    # Confusion matrix\n",
    "    val_conf_matrices[name] = confusion_matrix(y_val, y_val_pred)\n",
    "\n",
    "# ------------------------------\n",
    "# 📊 Accuracy Table\n",
    "val_accuracy_df = pd.DataFrame.from_dict(val_accuracies, orient='index', columns=['Accuracy'])\n",
    "print(\"\\n✅ Final validation Accuracies:\")\n",
    "print(val_accuracy_df.sort_values(by='Accuracy', ascending=False).round(4))\n",
    "\n",
    "# ------------------------------\n",
    "# 📊 Weighted Average Metrics Table\n",
    "val_summary_rows = []\n",
    "for name, metrics in val_reports.items():\n",
    "    row = {\n",
    "        \"Model\": name,\n",
    "        \"Precision\": metrics[\"weighted avg\"][\"precision\"],\n",
    "        \"Recall\": metrics[\"weighted avg\"][\"recall\"],\n",
    "        \"F1-Score\": metrics[\"weighted avg\"][\"f1-score\"],\n",
    "        \"Support\": metrics[\"weighted avg\"][\"support\"]\n",
    "    }\n",
    "    val_summary_rows.append(row)\n",
    "\n",
    "val_report_df = pd.DataFrame(val_summary_rows).set_index(\"Model\")\n",
    "print(\"\\n📌 Validation Classification Report (Weighted Avg):\")\n",
    "print(val_report_df.round(4))\n",
    "\n",
    "# ------------------------------\n",
    "# 🧩 Confusion Matrices\n",
    "for name, matrix in val_conf_matrices.items():\n",
    "    print(f\"\\n🧩 Confusion Matrix - {name}\")\n",
    "    print(matrix)"
   ]
  },
  {
   "cell_type": "markdown",
   "metadata": {
    "id": "55wHcWvr1oBx"
   },
   "source": [
    "no weighted average , macro average"
   ]
  },
  {
   "cell_type": "markdown",
   "metadata": {
    "id": "JuOmeui9vSx0"
   },
   "source": [
    "**1️⃣ Accuracy Bar Chart**"
   ]
  },
  {
   "cell_type": "code",
   "execution_count": 127,
   "metadata": {
    "colab": {
     "base_uri": "https://localhost:8080/",
     "height": 337
    },
    "id": "aKX9yCt9vSJ-",
    "outputId": "3f46ff95-57c2-43e2-f0c7-df6f56d9203a"
   },
   "outputs": [
    {
     "data": {
      "image/png": "[encoded data removed]",
      "text/plain": [
       "<Figure size 1000x500 with 1 Axes>"
      ]
     },
     "metadata": {},
     "output_type": "display_data"
    }
   ],
   "source": [
    "# Accuracy Bar Chart\n",
    "plt.figure(figsize=(10, 5))\n",
    "sns.barplot(x=val_accuracy_df.index, y=val_accuracy_df['Accuracy'], palette='viridis')\n",
    "plt.title(\"Model Accuracy on Validation Set\")\n",
    "plt.ylabel(\"Accuracy\")\n",
    "plt.xlabel(\"Model\")\n",
    "plt.xticks(rotation=45)\n",
    "plt.ylim(0, 1)\n",
    "plt.grid(axis='y')\n",
    "plt.tight_layout()\n",
    "plt.show()\n"
   ]
  },
  {
   "cell_type": "markdown",
   "metadata": {
    "id": "XF6TfTUvvZ8Y"
   },
   "source": [
    "**2️⃣ Precision / Recall / F1-Score Charts (Weighted Average)**"
   ]
  },
  {
   "cell_type": "code",
   "execution_count": 129,
   "metadata": {
    "colab": {
     "base_uri": "https://localhost:8080/",
     "height": 337
    },
    "id": "nz-TPDnTvZV-",
    "outputId": "68fd7514-b611-4e04-cc03-e4b0cfd1b05a"
   },
   "outputs": [
    {
     "data": {
      "image/png": "[encoded data removed]",
      "text/plain": [
       "<Figure size 1200x600 with 1 Axes>"
      ]
     },
     "metadata": {},
     "output_type": "display_data"
    }
   ],
   "source": [
    "# Convert report_df into long format for easier plotting\n",
    "report_melted = val_report_df.reset_index().melt(id_vars=\"Model\", value_vars=[\"Precision\", \"Recall\", \"F1-Score\"])\n",
    "\n",
    "plt.figure(figsize=(12, 6))\n",
    "sns.barplot(data=report_melted, x=\"Model\", y=\"value\", hue=\"variable\", palette=\"Set2\")\n",
    "plt.title(\"Weighted Avg: Precision, Recall, F1-Score (Test Set)\")\n",
    "plt.ylabel(\"Score\")\n",
    "plt.xticks(rotation=45)\n",
    "plt.ylim(0, 1)\n",
    "plt.legend(title=\"Metric\")\n",
    "plt.grid(axis='y')\n",
    "plt.tight_layout()\n",
    "plt.show()\n"
   ]
  },
  {
   "cell_type": "markdown",
   "metadata": {
    "id": "dvBQkot-vfBz"
   },
   "source": [
    "**3️⃣ Confusion Matrix Heatmaps**"
   ]
  },
  {
   "cell_type": "code",
   "execution_count": 131,
   "metadata": {
    "colab": {
     "base_uri": "https://localhost:8080/",
     "height": 1000
    },
    "id": "vAXDH9WEvhWq",
    "outputId": "f59d0201-416f-45e8-a45a-9fe25459bcc4"
   },
   "outputs": [
    {
     "data": {
      "image/png": "[encoded data removed]",
      "text/plain": [
       "<Figure size 500x400 with 1 Axes>"
      ]
     },
     "metadata": {},
     "output_type": "display_data"
    },
    {
     "data": {
      "image/png": "[encoded data removed]",
      "text/plain": [
       "<Figure size 500x400 with 1 Axes>"
      ]
     },
     "metadata": {},
     "output_type": "display_data"
    },
    {
     "data": {
      "image/png": "[encoded data removed]",
      "text/plain": [
       "<Figure size 500x400 with 1 Axes>"
      ]
     },
     "metadata": {},
     "output_type": "display_data"
    },
    {
     "data": {
      "image/png": "[encoded data removed]",
      "text/plain": [
       "<Figure size 500x400 with 1 Axes>"
      ]
     },
     "metadata": {},
     "output_type": "display_data"
    },
    {
     "data": {
      "image/png": "[encoded data removed]",
      "text/plain": [
       "<Figure size 500x400 with 1 Axes>"
      ]
     },
     "metadata": {},
     "output_type": "display_data"
    },
    {
     "data": {
      "image/png": "[encoded data removed]",
      "text/plain": [
       "<Figure size 500x400 with 1 Axes>"
      ]
     },
     "metadata": {},
     "output_type": "display_data"
    }
   ],
   "source": [
    "# Plot heatmaps\n",
    "for name, matrix in val_conf_matrices.items():\n",
    "    plt.figure(figsize=(5, 4))\n",
    "    sns.heatmap(matrix, annot=True, fmt=\"d\", cmap=\"Blues\", cbar=False)\n",
    "    plt.title(f\"Confusion Matrix - {name}\")\n",
    "    plt.xlabel(\"Predicted\")\n",
    "    plt.ylabel(\"Actual\")\n",
    "    plt.tight_layout()\n",
    "    plt.show()\n"
   ]
  },
  {
   "cell_type": "markdown",
   "metadata": {
    "id": "ypsN90sevi7d"
   },
   "source": [
    "**4️⃣ ROC Curves**"
   ]
  },
  {
   "cell_type": "code",
   "execution_count": 133,
   "metadata": {
    "colab": {
     "base_uri": "https://localhost:8080/",
     "height": 533
    },
    "id": "Bc1quW37voxK",
    "outputId": "f0a54f6d-c218-48b4-9f1a-6b25270c8e5d"
   },
   "outputs": [
    {
     "data": {
      "image/png": "[encoded data removed]",
      "text/plain": [
       "<Figure size 1000x800 with 1 Axes>"
      ]
     },
     "metadata": {},
     "output_type": "display_data"
    }
   ],
   "source": [
    "plt.figure(figsize=(10, 8))\n",
    "\n",
    "for name, model in models.items():\n",
    "    # Check if model supports predict_proba or decision_function\n",
    "    if hasattr(model, \"predict_proba\"):\n",
    "        y_scores = model.predict_proba(X_val_scaled)[:, 1]\n",
    "    elif hasattr(model, \"decision_function\"):\n",
    "        y_scores = model.decision_function(X_val_scaled)\n",
    "    else:\n",
    "        continue  # Skip model if no probability-like output\n",
    "\n",
    "    fpr, tpr, _ = roc_curve(y_val, y_scores)\n",
    "    roc_auc = auc(fpr, tpr)\n",
    "    plt.plot(fpr, tpr, label=f\"{name} (AUC = {roc_auc:.2f})\")\n",
    "\n",
    "# ROC Curve plot details\n",
    "plt.plot([0, 1], [0, 1], \"k--\")\n",
    "plt.title(\"ROC Curves for Classifiers\")\n",
    "plt.xlabel(\"False Positive Rate\")\n",
    "plt.ylabel(\"True Positive Rate\")\n",
    "plt.legend(loc=\"lower right\")\n",
    "plt.grid()\n",
    "plt.tight_layout()\n",
    "plt.show()"
   ]
  },
  {
   "cell_type": "markdown",
   "metadata": {
    "id": "_YBE0_PPDWCa"
   },
   "source": [
    "### Hyperparameter Tuning for XGBoost"
   ]
  },
  {
   "cell_type": "code",
   "execution_count": 141,
   "metadata": {
    "colab": {
     "base_uri": "https://localhost:8080/"
    },
    "id": "gVhaKyUhDVbZ",
    "outputId": "fe18b949-685c-47c1-c4dd-56d85e302ecd"
   },
   "outputs": [
    {
     "name": "stdout",
     "output_type": "stream",
     "text": [
      "Fitting 5 folds for each of 72 candidates, totalling 360 fits\n",
      "\n",
      "✅ Best Parameters for XGBoost:\n",
      "{'clf__colsample_bytree': 1, 'clf__learning_rate': 0.2, 'clf__max_depth': 7, 'clf__n_estimators': 200, 'clf__subsample': 0.8}\n"
     ]
    }
   ],
   "source": [
    "from sklearn.model_selection import GridSearchCV\n",
    "from xgboost import XGBClassifier\n",
    "from imblearn.over_sampling import RandomOverSampler\n",
    "from imblearn.pipeline import Pipeline\n",
    "\n",
    "# Define parameter grid\n",
    "param_grid = {\n",
    "    'clf__n_estimators': [100, 200],\n",
    "    'clf__max_depth': [3, 5, 7],\n",
    "    'clf__learning_rate': [0.01, 0.1, 0.2],\n",
    "    'clf__subsample': [0.8, 1],\n",
    "    'clf__colsample_bytree': [0.8, 1],\n",
    "}\n",
    "\n",
    "# Initialize base XGBoost model\n",
    "xgb_base = XGBClassifier(use_label_encoder=False, eval_metric='logloss', random_state=42)\n",
    "\n",
    "# Define pipeline with RandomOverSampler and XGBClassifier\n",
    "pipeline = Pipeline(steps=[\n",
    "    ('sampler', RandomOverSampler(random_state=42)),  # Step for oversampling\n",
    "    ('clf', xgb_base)  # Classifier step\n",
    "])\n",
    "\n",
    "# Perform Grid Search with 5-fold cross-validation\n",
    "grid_search_xgb = GridSearchCV(\n",
    "    estimator=pipeline,  # Use pipeline with oversampling and classifier\n",
    "    param_grid=param_grid,  # Hyperparameter grid for the classifier\n",
    "    cv=5,  # 5-fold cross-validation\n",
    "    scoring='accuracy',  # Evaluation metric\n",
    "    n_jobs=-1,  # Use all processors\n",
    "    verbose=1  # Display progress\n",
    ")\n",
    "\n",
    "# Fit the grid search on the resampled training data\n",
    "grid_search_xgb.fit(X_train_scaled, y_train)  # Use original training data (scaled)\n",
    "\n",
    "# Best estimator and parameters\n",
    "best_xgb = grid_search_xgb.best_estimator_\n",
    "print(\"\\n✅ Best Parameters for XGBoost:\")\n",
    "print(grid_search_xgb.best_params_)"
   ]
  },
  {
   "cell_type": "code",
   "execution_count": 143,
   "metadata": {},
   "outputs": [
    {
     "name": "stdout",
     "output_type": "stream",
     "text": [
      "Fitting 5 folds for each of 72 candidates, totalling 360 fits\n",
      "[LightGBM] [Info] Number of positive: 70670, number of negative: 70670\n",
      "[LightGBM] [Info] Auto-choosing row-wise multi-threading, the overhead of testing was 0.002587 seconds.\n",
      "You can set `force_row_wise=true` to remove the overhead.\n",
      "And if memory is not enough, you can set `force_col_wise=true`.\n",
      "[LightGBM] [Info] Total Bins 279\n",
      "[LightGBM] [Info] Number of data points in the train set: 141340, number of used features: 4\n",
      "[LightGBM] [Info] [binary:BoostFromScore]: pavg=0.500000 -> initscore=0.000000\n",
      "[LightGBM] [Warning] No further splits with positive gain, best gain: -inf\n",
      "[LightGBM] [Warning] No further splits with positive gain, best gain: -inf\n",
      "[LightGBM] [Warning] No further splits with positive gain, best gain: -inf\n",
      "[LightGBM] [Warning] No further splits with positive gain, best gain: -inf\n",
      "[LightGBM] [Warning] No further splits with positive gain, best gain: -inf\n",
      "[LightGBM] [Warning] No further splits with positive gain, best gain: -inf\n",
      "[LightGBM] [Warning] No further splits with positive gain, best gain: -inf\n",
      "[LightGBM] [Warning] No further splits with positive gain, best gain: -inf\n",
      "[LightGBM] [Warning] No further splits with positive gain, best gain: -inf\n",
      "[LightGBM] [Warning] No further splits with positive gain, best gain: -inf\n",
      "[LightGBM] [Warning] No further splits with positive gain, best gain: -inf\n",
      "[LightGBM] [Warning] No further splits with positive gain, best gain: -inf\n",
      "[LightGBM] [Warning] No further splits with positive gain, best gain: -inf\n",
      "[LightGBM] [Warning] No further splits with positive gain, best gain: -inf\n",
      "[LightGBM] [Warning] No further splits with positive gain, best gain: -inf\n",
      "[LightGBM] [Warning] No further splits with positive gain, best gain: -inf\n",
      "[LightGBM] [Warning] No further splits with positive gain, best gain: -inf\n",
      "[LightGBM] [Warning] No further splits with positive gain, best gain: -inf\n",
      "[LightGBM] [Warning] No further splits with positive gain, best gain: -inf\n",
      "[LightGBM] [Warning] No further splits with positive gain, best gain: -inf\n",
      "[LightGBM] [Warning] No further splits with positive gain, best gain: -inf\n",
      "[LightGBM] [Warning] No further splits with positive gain, best gain: -inf\n",
      "[LightGBM] [Warning] No further splits with positive gain, best gain: -inf\n",
      "[LightGBM] [Warning] No further splits with positive gain, best gain: -inf\n",
      "[LightGBM] [Warning] No further splits with positive gain, best gain: -inf\n",
      "[LightGBM] [Warning] No further splits with positive gain, best gain: -inf\n",
      "[LightGBM] [Warning] No further splits with positive gain, best gain: -inf\n",
      "[LightGBM] [Warning] No further splits with positive gain, best gain: -inf\n",
      "[LightGBM] [Warning] No further splits with positive gain, best gain: -inf\n",
      "[LightGBM] [Warning] No further splits with positive gain, best gain: -inf\n",
      "[LightGBM] [Warning] No further splits with positive gain, best gain: -inf\n",
      "[LightGBM] [Warning] No further splits with positive gain, best gain: -inf\n",
      "[LightGBM] [Warning] No further splits with positive gain, best gain: -inf\n",
      "[LightGBM] [Warning] No further splits with positive gain, best gain: -inf\n",
      "[LightGBM] [Warning] No further splits with positive gain, best gain: -inf\n",
      "[LightGBM] [Warning] No further splits with positive gain, best gain: -inf\n",
      "[LightGBM] [Warning] No further splits with positive gain, best gain: -inf\n",
      "[LightGBM] [Warning] No further splits with positive gain, best gain: -inf\n",
      "[LightGBM] [Warning] No further splits with positive gain, best gain: -inf\n",
      "[LightGBM] [Warning] No further splits with positive gain, best gain: -inf\n",
      "[LightGBM] [Warning] No further splits with positive gain, best gain: -inf\n",
      "[LightGBM] [Warning] No further splits with positive gain, best gain: -inf\n",
      "[LightGBM] [Warning] No further splits with positive gain, best gain: -inf\n",
      "[LightGBM] [Warning] No further splits with positive gain, best gain: -inf\n",
      "[LightGBM] [Warning] No further splits with positive gain, best gain: -inf\n",
      "[LightGBM] [Warning] No further splits with positive gain, best gain: -inf\n",
      "[LightGBM] [Warning] No further splits with positive gain, best gain: -inf\n",
      "[LightGBM] [Warning] No further splits with positive gain, best gain: -inf\n",
      "[LightGBM] [Warning] No further splits with positive gain, best gain: -inf\n",
      "[LightGBM] [Warning] No further splits with positive gain, best gain: -inf\n",
      "[LightGBM] [Warning] No further splits with positive gain, best gain: -inf\n",
      "[LightGBM] [Warning] No further splits with positive gain, best gain: -inf\n",
      "[LightGBM] [Warning] No further splits with positive gain, best gain: -inf\n",
      "[LightGBM] [Warning] No further splits with positive gain, best gain: -inf\n",
      "[LightGBM] [Warning] No further splits with positive gain, best gain: -inf\n",
      "[LightGBM] [Warning] No further splits with positive gain, best gain: -inf\n",
      "[LightGBM] [Warning] No further splits with positive gain, best gain: -inf\n",
      "[LightGBM] [Warning] No further splits with positive gain, best gain: -inf\n",
      "[LightGBM] [Warning] No further splits with positive gain, best gain: -inf\n",
      "[LightGBM] [Warning] No further splits with positive gain, best gain: -inf\n",
      "[LightGBM] [Warning] No further splits with positive gain, best gain: -inf\n",
      "[LightGBM] [Warning] No further splits with positive gain, best gain: -inf\n",
      "[LightGBM] [Warning] No further splits with positive gain, best gain: -inf\n",
      "[LightGBM] [Warning] No further splits with positive gain, best gain: -inf\n",
      "[LightGBM] [Warning] No further splits with positive gain, best gain: -inf\n",
      "[LightGBM] [Warning] No further splits with positive gain, best gain: -inf\n",
      "[LightGBM] [Warning] No further splits with positive gain, best gain: -inf\n",
      "[LightGBM] [Warning] No further splits with positive gain, best gain: -inf\n",
      "[LightGBM] [Warning] No further splits with positive gain, best gain: -inf\n",
      "[LightGBM] [Warning] No further splits with positive gain, best gain: -inf\n",
      "[LightGBM] [Warning] No further splits with positive gain, best gain: -inf\n",
      "[LightGBM] [Warning] No further splits with positive gain, best gain: -inf\n",
      "[LightGBM] [Warning] No further splits with positive gain, best gain: -inf\n",
      "[LightGBM] [Warning] No further splits with positive gain, best gain: -inf\n",
      "[LightGBM] [Warning] No further splits with positive gain, best gain: -inf\n",
      "[LightGBM] [Warning] No further splits with positive gain, best gain: -inf\n",
      "[LightGBM] [Warning] No further splits with positive gain, best gain: -inf\n",
      "[LightGBM] [Warning] No further splits with positive gain, best gain: -inf\n",
      "[LightGBM] [Warning] No further splits with positive gain, best gain: -inf\n",
      "[LightGBM] [Warning] No further splits with positive gain, best gain: -inf\n",
      "[LightGBM] [Warning] No further splits with positive gain, best gain: -inf\n",
      "[LightGBM] [Warning] No further splits with positive gain, best gain: -inf\n",
      "[LightGBM] [Warning] No further splits with positive gain, best gain: -inf\n",
      "[LightGBM] [Warning] No further splits with positive gain, best gain: -inf\n",
      "[LightGBM] [Warning] No further splits with positive gain, best gain: -inf\n",
      "[LightGBM] [Warning] No further splits with positive gain, best gain: -inf\n",
      "[LightGBM] [Warning] No further splits with positive gain, best gain: -inf\n",
      "[LightGBM] [Warning] No further splits with positive gain, best gain: -inf\n",
      "[LightGBM] [Warning] No further splits with positive gain, best gain: -inf\n",
      "[LightGBM] [Warning] No further splits with positive gain, best gain: -inf\n",
      "[LightGBM] [Warning] No further splits with positive gain, best gain: -inf\n",
      "[LightGBM] [Warning] No further splits with positive gain, best gain: -inf\n",
      "[LightGBM] [Warning] No further splits with positive gain, best gain: -inf\n",
      "[LightGBM] [Warning] No further splits with positive gain, best gain: -inf\n",
      "[LightGBM] [Warning] No further splits with positive gain, best gain: -inf\n",
      "[LightGBM] [Warning] No further splits with positive gain, best gain: -inf\n",
      "[LightGBM] [Warning] No further splits with positive gain, best gain: -inf\n",
      "[LightGBM] [Warning] No further splits with positive gain, best gain: -inf\n",
      "[LightGBM] [Warning] No further splits with positive gain, best gain: -inf\n",
      "[LightGBM] [Warning] No further splits with positive gain, best gain: -inf\n",
      "\n",
      "✅ Best Parameters for LightGBM:\n",
      "{'clf__colsample_bytree': 0.8, 'clf__learning_rate': 0.01, 'clf__max_depth': 3, 'clf__n_estimators': 100, 'clf__subsample': 0.8}\n"
     ]
    }
   ],
   "source": [
    "from lightgbm import LGBMClassifier\n",
    "\n",
    "param_grid_lgb = {\n",
    "    'clf__n_estimators': [100, 200],\n",
    "    'clf__max_depth': [3, 5, 7],\n",
    "    'clf__learning_rate': [0.01, 0.1, 0.2],\n",
    "    'clf__subsample': [0.8, 1],\n",
    "    'clf__colsample_bytree': [0.8, 1],\n",
    "}\n",
    "\n",
    "pipeline_lgb = Pipeline(steps=[\n",
    "    ('sampler', RandomOverSampler(random_state=42)),\n",
    "    ('clf', LGBMClassifier(random_state=42))\n",
    "])\n",
    "\n",
    "grid_search_lgb = GridSearchCV(\n",
    "    estimator=pipeline_lgb,\n",
    "    param_grid=param_grid_lgb,\n",
    "    cv=5,\n",
    "    scoring='accuracy',\n",
    "    n_jobs=-1,\n",
    "    verbose=1\n",
    ")\n",
    "\n",
    "grid_search_lgb.fit(X_train_scaled, y_train)\n",
    "best_lgb = grid_search_lgb.best_estimator_\n",
    "print(\"\\n✅ Best Parameters for LightGBM:\")\n",
    "print(grid_search_lgb.best_params_)"
   ]
  },
  {
   "cell_type": "code",
   "execution_count": 145,
   "metadata": {},
   "outputs": [
    {
     "name": "stdout",
     "output_type": "stream",
     "text": [
      "Fitting 5 folds for each of 36 candidates, totalling 180 fits\n",
      "\n",
      "✅ Best Parameters for Gradient Boosting:\n",
      "{'clf__learning_rate': 0.2, 'clf__max_depth': 7, 'clf__n_estimators': 200, 'clf__subsample': 0.8}\n"
     ]
    }
   ],
   "source": [
    "from sklearn.ensemble import GradientBoostingClassifier\n",
    "\n",
    "param_grid_gb = {\n",
    "    'clf__n_estimators': [100, 200],\n",
    "    'clf__max_depth': [3, 5, 7],\n",
    "    'clf__learning_rate': [0.01, 0.1, 0.2],\n",
    "    'clf__subsample': [0.8, 1],\n",
    "}\n",
    "\n",
    "pipeline_gb = Pipeline(steps=[\n",
    "    ('sampler', RandomOverSampler(random_state=42)),\n",
    "    ('clf', GradientBoostingClassifier(random_state=42))\n",
    "])\n",
    "\n",
    "grid_search_gb = GridSearchCV(\n",
    "    estimator=pipeline_gb,\n",
    "    param_grid=param_grid_gb,\n",
    "    cv=5,\n",
    "    scoring='accuracy',\n",
    "    n_jobs=-1,\n",
    "    verbose=1\n",
    ")\n",
    "\n",
    "grid_search_gb.fit(X_train_scaled, y_train)\n",
    "best_gb = grid_search_gb.best_estimator_\n",
    "print(\"\\n✅ Best Parameters for Gradient Boosting:\")\n",
    "print(grid_search_gb.best_params_)\n"
   ]
  },
  {
   "cell_type": "code",
   "execution_count": 147,
   "metadata": {},
   "outputs": [
    {
     "name": "stdout",
     "output_type": "stream",
     "text": [
      "\n",
      "📊 Validation Accuracy:\n",
      "                   Accuracy\n",
      "XGBoost              0.7272\n",
      "LightGBM             0.7372\n",
      "Gradient Boosting    0.7724\n",
      "\n",
      "📌 Validation Classification Report (Weighted Avg):\n",
      "                   Precision  Recall  F1-Score  Support\n",
      "Model                                                  \n",
      "XGBoost               0.8884  0.7272    0.7870  16443.0\n",
      "LightGBM              0.8853  0.7372    0.7935  16443.0\n",
      "Gradient Boosting     0.8897  0.7724    0.8180  16443.0\n"
     ]
    }
   ],
   "source": [
    "# Dictionary to store tuned models\n",
    "tuned_models = {\n",
    "    \"XGBoost\": best_xgb,\n",
    "    \"LightGBM\": best_lgb,\n",
    "    \"Gradient Boosting\": best_gb\n",
    "}\n",
    "\n",
    "# Initialize storage\n",
    "val_results = {}\n",
    "val_reports = []\n",
    "\n",
    "# Evaluate each tuned model on validation set\n",
    "for name, model in tuned_models.items():\n",
    "    y_val_pred = model.predict(X_val_scaled)\n",
    "\n",
    "    # Accuracy\n",
    "    val_results[name] = accuracy_score(y_val, y_val_pred)\n",
    "\n",
    "    # Classification report (weighted avg)\n",
    "    report = classification_report(y_val, y_val_pred, output_dict=True)\n",
    "    val_reports.append({\n",
    "        \"Model\": name,\n",
    "        \"Precision\": report[\"weighted avg\"][\"precision\"],\n",
    "        \"Recall\": report[\"weighted avg\"][\"recall\"],\n",
    "        \"F1-Score\": report[\"weighted avg\"][\"f1-score\"],\n",
    "        \"Support\": report[\"weighted avg\"][\"support\"]\n",
    "    })\n",
    "\n",
    "# Create DataFrames\n",
    "val_accuracy_df = pd.DataFrame.from_dict(val_results, orient=\"index\", columns=[\"Accuracy\"])\n",
    "val_report_df = pd.DataFrame(val_reports).set_index(\"Model\")\n",
    "\n",
    "print(\"\\n📊 Validation Accuracy:\")\n",
    "print(val_accuracy_df.round(4))\n",
    "\n",
    "print(\"\\n📌 Validation Classification Report (Weighted Avg):\")\n",
    "print(val_report_df.round(4))"
   ]
  },
  {
   "cell_type": "markdown",
   "metadata": {
    "id": "-vOsaDPBFvsg"
   },
   "source": [
    "### ✅ Evaluate on Test Set"
   ]
  },
  {
   "cell_type": "code",
   "execution_count": null,
   "metadata": {},
   "outputs": [],
   "source": []
  },
  {
   "cell_type": "code",
   "execution_count": 149,
   "metadata": {
    "colab": {
     "base_uri": "https://localhost:8080/"
    },
    "id": "F_UUCxsYDrCg",
    "outputId": "7512c723-aa19-4eba-e5c7-9f04b8cab212"
   },
   "outputs": [
    {
     "name": "stdout",
     "output_type": "stream",
     "text": [
      "\n",
      "🎯 Accuracy: 0.7767439031806848\n",
      "\n",
      "📊 Classification Report:\n",
      "              precision    recall  f1-score   support\n",
      "\n",
      "           0       0.95      0.80      0.87     15144\n",
      "           1       0.18      0.52      0.27      1299\n",
      "\n",
      "    accuracy                           0.78     16443\n",
      "   macro avg       0.57      0.66      0.57     16443\n",
      "weighted avg       0.89      0.78      0.82     16443\n",
      "\n",
      "\n",
      "🧩 Confusion Matrix:\n",
      "[[12103  3041]\n",
      " [  630   669]]\n"
     ]
    }
   ],
   "source": [
    "from sklearn.metrics import classification_report, confusion_matrix, accuracy_score\n",
    "\n",
    "# Predict on validation or test set\n",
    "y_pred = best_gb.predict(X_test_scaled)\n",
    "\n",
    "print(\"\\n🎯 Accuracy:\", accuracy_score(y_test, y_pred))\n",
    "print(\"\\n📊 Classification Report:\")\n",
    "print(classification_report(y_test, y_pred))\n",
    "print(\"\\n🧩 Confusion Matrix:\")\n",
    "print(confusion_matrix(y_test, y_pred))\n"
   ]
  },
  {
   "cell_type": "code",
   "execution_count": null,
   "metadata": {},
   "outputs": [],
   "source": []
  }
 ],
 "metadata": {
  "colab": {
   "provenance": []
  },
  "kernelspec": {
   "display_name": "Python 3 (ipykernel)",
   "language": "python",
   "name": "python3"
  },
  "language_info": {
   "codemirror_mode": {
    "name": "ipython",
    "version": 3
   },
   "file_extension": ".py",
   "mimetype": "text/x-python",
   "name": "python",
   "nbconvert_exporter": "python",
   "pygments_lexer": "ipython3",
   "version": "3.12.4"
  }
 },
 "nbformat": 4,
 "nbformat_minor": 4
}
